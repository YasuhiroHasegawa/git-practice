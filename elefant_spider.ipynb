{
  "nbformat": 4,
  "nbformat_minor": 0,
  "metadata": {
    "accelerator": "GPU",
    "colab": {
      "name": "elefant_spider.ipynb",
      "provenance": [],
      "authorship_tag": "ABX9TyOowqmrizfP//woAeXs9+3S",
      "include_colab_link": true
    },
    "kernelspec": {
      "display_name": "Python 3",
      "name": "python3"
    },
    "language_info": {
      "name": "python"
    }
  },
  "cells": [
    {
      "cell_type": "markdown",
      "metadata": {
        "id": "view-in-github",
        "colab_type": "text"
      },
      "source": [
        "<a href=\"https://colab.research.google.com/github/YasuhiroHasegawa/git-practice/blob/main/elefant_spider.ipynb\" target=\"_parent\"><img src=\"https://colab.research.google.com/assets/colab-badge.svg\" alt=\"Open In Colab\"/></a>"
      ]
    },
    {
      "cell_type": "code",
      "metadata": {
        "colab": {
          "base_uri": "https://localhost:8080/"
        },
        "id": "FkXZI1NfvrAW",
        "outputId": "fc7cdfc5-3871-48e2-eec2-d396d7dfb6bd"
      },
      "source": [
        "# Google Driveマウント\n",
        "from google.colab import drive\n",
        "drive.mount('/content/drive')\n",
        "\n",
        "%cd '/content/drive/MyDrive/IMGDATASET'\n",
        "#%cd \"/content/drive/MyDrive/images\"c"
      ],
      "execution_count": 1,
      "outputs": [
        {
          "output_type": "stream",
          "text": [
            "Mounted at /content/drive\n",
            "/content/drive/MyDrive/IMGDATASET\n"
          ],
          "name": "stdout"
        }
      ]
    },
    {
      "cell_type": "code",
      "metadata": {
        "colab": {
          "base_uri": "https://localhost:8080/"
        },
        "id": "_9_YlStov9LI",
        "outputId": "4cd55e54-a02e-4d6e-dcc5-7dc5e66a5c1a"
      },
      "source": [
        "%cd '/content/drive/'MyDrive/'IMGDATASET'"
      ],
      "execution_count": 2,
      "outputs": [
        {
          "output_type": "stream",
          "text": [
            "/content/drive/MyDrive/IMGDATASET\n"
          ],
          "name": "stdout"
        }
      ]
    },
    {
      "cell_type": "code",
      "metadata": {
        "id": "SAq588cTwpNU"
      },
      "source": [
        "import os\n",
        "\n",
        "import keras\n",
        "from keras.preprocessing.image import ImageDataGenerator\n",
        "from keras.models import Sequential, Model\n",
        "from keras.layers import Input, Dense, Dropout, Activation, Flatten\n",
        "from keras import optimizers\n",
        "from keras.applications.vgg16 import VGG16"
      ],
      "execution_count": 3,
      "outputs": []
    },
    {
      "cell_type": "code",
      "metadata": {
        "id": "C4-zNCIhw5TN"
      },
      "source": [
        "classes = ['elefant', 'spider']\n",
        "base_dir = \"case4/\""
      ],
      "execution_count": 4,
      "outputs": []
    },
    {
      "cell_type": "code",
      "metadata": {
        "id": "4EfptxCQwirN"
      },
      "source": [
        "# 分類クラス\n",
        "nb_classes = len(classes)\n",
        "batch_size_for_data_generator = 20\n",
        "\n",
        "\n",
        "train_dir = os.path.join(base_dir, 'train')\n",
        "validation_dir = os.path.join(base_dir, 'validation')\n",
        "test_dir = os.path.join(base_dir, 'test')\n",
        "\n",
        "train_cow_dir = os.path.join(train_dir, classes[0])\n",
        "train_horse_dir = os.path.join(train_dir, classes[1])\n",
        "\n",
        "validation_cow_dir = os.path.join(validation_dir, classes[0])\n",
        "validation_horse_dir = os.path.join(validation_dir, classes[1])\n",
        "\n",
        "test_cow_dir = os.path.join(test_dir, classes[0])\n",
        "test_horse_dir = os.path.join(test_dir, classes[1])\n",
        "\n",
        "# 画像サイズ\n",
        "img_rows, img_cols = 150, 150"
      ],
      "execution_count": 5,
      "outputs": []
    },
    {
      "cell_type": "code",
      "metadata": {
        "colab": {
          "base_uri": "https://localhost:8080/"
        },
        "id": "SjNQ7Z7uZATk",
        "outputId": "1b2c2df4-bdc8-42f7-8d7b-a08913765f55"
      },
      "source": [
        "print('total training class A images:', len(os.listdir(train_cow_dir)),train_cow_dir)\n",
        "print('total training class B images:', len(os.listdir(train_horse_dir)),train_horse_dir)\n",
        "\n",
        "print('total training class A images:', len(os.listdir(validation_cow_dir)),validation_cow_dir)\n",
        "print('total training class B images:', len(os.listdir(validation_horse_dir)),validation_horse_dir)\n",
        "\n",
        "print('total test class A images:', len(os.listdir(test_cow_dir)),test_cow_dir)\n",
        "print('total test class B images:', len(os.listdir(test_horse_dir)),test_horse_dir)"
      ],
      "execution_count": 6,
      "outputs": [
        {
          "output_type": "stream",
          "text": [
            "total training class A images: 200 case4/train/elefant\n",
            "total training class B images: 200 case4/train/spider\n",
            "total training class A images: 100 case4/validation/elefant\n",
            "total training class B images: 100 case4/validation/spider\n",
            "total test class A images: 100 case4/test/elefant\n",
            "total test class B images: 100 case4/test/spider\n"
          ],
          "name": "stdout"
        }
      ]
    },
    {
      "cell_type": "code",
      "metadata": {
        "colab": {
          "base_uri": "https://localhost:8080/"
        },
        "id": "st-rInMSaJ8r",
        "outputId": "d0c3f499-184e-4403-e311-c7f0fa716cfd"
      },
      "source": [
        "train_datagen = ImageDataGenerator(rescale=1.0 / 255,shear_range=0.2,zoom_range=0.2,horizontal_flip=True)\n",
        "\n",
        "train_generator = train_datagen.flow_from_directory(directory=train_dir,target_size=(img_rows, img_cols),color_mode='rgb',classes=classes,class_mode='categorical',batch_size=batch_size_for_data_generator,shuffle=True)\n"
      ],
      "execution_count": 7,
      "outputs": [
        {
          "output_type": "stream",
          "text": [
            "Found 400 images belonging to 2 classes.\n"
          ],
          "name": "stdout"
        }
      ]
    },
    {
      "cell_type": "code",
      "metadata": {
        "colab": {
          "base_uri": "https://localhost:8080/"
        },
        "id": "AORCjKtVaXph",
        "outputId": "5585b488-8adc-420f-868a-ed1cd8b635a6"
      },
      "source": [
        "test_datagen = ImageDataGenerator(rescale=1.0 / 255)\n",
        "    \n",
        "validation_generator = test_datagen.flow_from_directory(directory=validation_dir,target_size=(img_rows, img_cols),color_mode='rgb',classes=classes,class_mode='categorical',batch_size=batch_size_for_data_generator,shuffle=True)"
      ],
      "execution_count": 8,
      "outputs": [
        {
          "output_type": "stream",
          "text": [
            "Found 200 images belonging to 2 classes.\n"
          ],
          "name": "stdout"
        }
      ]
    },
    {
      "cell_type": "code",
      "metadata": {
        "colab": {
          "base_uri": "https://localhost:8080/"
        },
        "id": "Qo3Kgjmpaer7",
        "outputId": "180c4513-f5f7-49e8-dd5c-0bc412776fb5"
      },
      "source": [
        "input_tensor = Input(shape=(img_rows, img_cols, 3))\n",
        "vgg16 = VGG16(include_top=False, weights='imagenet', input_tensor=input_tensor)\n",
        "vgg16.summary()"
      ],
      "execution_count": 9,
      "outputs": [
        {
          "output_type": "stream",
          "text": [
            "Downloading data from https://storage.googleapis.com/tensorflow/keras-applications/vgg16/vgg16_weights_tf_dim_ordering_tf_kernels_notop.h5\n",
            "58892288/58889256 [==============================] - 1s 0us/step\n",
            "58900480/58889256 [==============================] - 1s 0us/step\n",
            "Model: \"vgg16\"\n",
            "_________________________________________________________________\n",
            "Layer (type)                 Output Shape              Param #   \n",
            "=================================================================\n",
            "input_1 (InputLayer)         [(None, 150, 150, 3)]     0         \n",
            "_________________________________________________________________\n",
            "block1_conv1 (Conv2D)        (None, 150, 150, 64)      1792      \n",
            "_________________________________________________________________\n",
            "block1_conv2 (Conv2D)        (None, 150, 150, 64)      36928     \n",
            "_________________________________________________________________\n",
            "block1_pool (MaxPooling2D)   (None, 75, 75, 64)        0         \n",
            "_________________________________________________________________\n",
            "block2_conv1 (Conv2D)        (None, 75, 75, 128)       73856     \n",
            "_________________________________________________________________\n",
            "block2_conv2 (Conv2D)        (None, 75, 75, 128)       147584    \n",
            "_________________________________________________________________\n",
            "block2_pool (MaxPooling2D)   (None, 37, 37, 128)       0         \n",
            "_________________________________________________________________\n",
            "block3_conv1 (Conv2D)        (None, 37, 37, 256)       295168    \n",
            "_________________________________________________________________\n",
            "block3_conv2 (Conv2D)        (None, 37, 37, 256)       590080    \n",
            "_________________________________________________________________\n",
            "block3_conv3 (Conv2D)        (None, 37, 37, 256)       590080    \n",
            "_________________________________________________________________\n",
            "block3_pool (MaxPooling2D)   (None, 18, 18, 256)       0         \n",
            "_________________________________________________________________\n",
            "block4_conv1 (Conv2D)        (None, 18, 18, 512)       1180160   \n",
            "_________________________________________________________________\n",
            "block4_conv2 (Conv2D)        (None, 18, 18, 512)       2359808   \n",
            "_________________________________________________________________\n",
            "block4_conv3 (Conv2D)        (None, 18, 18, 512)       2359808   \n",
            "_________________________________________________________________\n",
            "block4_pool (MaxPooling2D)   (None, 9, 9, 512)         0         \n",
            "_________________________________________________________________\n",
            "block5_conv1 (Conv2D)        (None, 9, 9, 512)         2359808   \n",
            "_________________________________________________________________\n",
            "block5_conv2 (Conv2D)        (None, 9, 9, 512)         2359808   \n",
            "_________________________________________________________________\n",
            "block5_conv3 (Conv2D)        (None, 9, 9, 512)         2359808   \n",
            "_________________________________________________________________\n",
            "block5_pool (MaxPooling2D)   (None, 4, 4, 512)         0         \n",
            "=================================================================\n",
            "Total params: 14,714,688\n",
            "Trainable params: 14,714,688\n",
            "Non-trainable params: 0\n",
            "_________________________________________________________________\n"
          ],
          "name": "stdout"
        }
      ]
    },
    {
      "cell_type": "code",
      "metadata": {
        "colab": {
          "base_uri": "https://localhost:8080/"
        },
        "id": "YBJgOi7yahMd",
        "outputId": "c4d0d6fc-787c-4eb9-8079-621946866d65"
      },
      "source": [
        "top_model = Sequential()\n",
        "top_model.add(Flatten(input_shape=vgg16.output_shape[1:]))\n",
        "top_model.add(Dense(256, activation='relu'))\n",
        "top_model.add(Dropout(0.5))\n",
        "top_model.add(Dense(nb_classes, activation='softmax'))\n",
        "model = Model(inputs=vgg16.input, outputs=top_model(vgg16.output))\n",
        "model.summary()"
      ],
      "execution_count": 10,
      "outputs": [
        {
          "output_type": "stream",
          "text": [
            "Model: \"model\"\n",
            "_________________________________________________________________\n",
            "Layer (type)                 Output Shape              Param #   \n",
            "=================================================================\n",
            "input_1 (InputLayer)         [(None, 150, 150, 3)]     0         \n",
            "_________________________________________________________________\n",
            "block1_conv1 (Conv2D)        (None, 150, 150, 64)      1792      \n",
            "_________________________________________________________________\n",
            "block1_conv2 (Conv2D)        (None, 150, 150, 64)      36928     \n",
            "_________________________________________________________________\n",
            "block1_pool (MaxPooling2D)   (None, 75, 75, 64)        0         \n",
            "_________________________________________________________________\n",
            "block2_conv1 (Conv2D)        (None, 75, 75, 128)       73856     \n",
            "_________________________________________________________________\n",
            "block2_conv2 (Conv2D)        (None, 75, 75, 128)       147584    \n",
            "_________________________________________________________________\n",
            "block2_pool (MaxPooling2D)   (None, 37, 37, 128)       0         \n",
            "_________________________________________________________________\n",
            "block3_conv1 (Conv2D)        (None, 37, 37, 256)       295168    \n",
            "_________________________________________________________________\n",
            "block3_conv2 (Conv2D)        (None, 37, 37, 256)       590080    \n",
            "_________________________________________________________________\n",
            "block3_conv3 (Conv2D)        (None, 37, 37, 256)       590080    \n",
            "_________________________________________________________________\n",
            "block3_pool (MaxPooling2D)   (None, 18, 18, 256)       0         \n",
            "_________________________________________________________________\n",
            "block4_conv1 (Conv2D)        (None, 18, 18, 512)       1180160   \n",
            "_________________________________________________________________\n",
            "block4_conv2 (Conv2D)        (None, 18, 18, 512)       2359808   \n",
            "_________________________________________________________________\n",
            "block4_conv3 (Conv2D)        (None, 18, 18, 512)       2359808   \n",
            "_________________________________________________________________\n",
            "block4_pool (MaxPooling2D)   (None, 9, 9, 512)         0         \n",
            "_________________________________________________________________\n",
            "block5_conv1 (Conv2D)        (None, 9, 9, 512)         2359808   \n",
            "_________________________________________________________________\n",
            "block5_conv2 (Conv2D)        (None, 9, 9, 512)         2359808   \n",
            "_________________________________________________________________\n",
            "block5_conv3 (Conv2D)        (None, 9, 9, 512)         2359808   \n",
            "_________________________________________________________________\n",
            "block5_pool (MaxPooling2D)   (None, 4, 4, 512)         0         \n",
            "_________________________________________________________________\n",
            "sequential (Sequential)      (None, 2)                 2097922   \n",
            "=================================================================\n",
            "Total params: 16,812,610\n",
            "Trainable params: 16,812,610\n",
            "Non-trainable params: 0\n",
            "_________________________________________________________________\n"
          ],
          "name": "stdout"
        }
      ]
    },
    {
      "cell_type": "code",
      "metadata": {
        "id": "71EXab4JarF0"
      },
      "source": [
        "vgg16.trainable = True\n",
        "\n",
        "set_trainable = False\n",
        "for layer in vgg16.layers:\n",
        "    #fine tuning の場合　以下のコメントアウト解除\n",
        "    #if layer.name == 'block5_conv1':\n",
        "    #    set_trainable = True\n",
        "    if set_trainable:\n",
        "        layer.trainable = True\n",
        "    else:\n",
        "        layer.trainable = False"
      ],
      "execution_count": 12,
      "outputs": []
    },
    {
      "cell_type": "code",
      "metadata": {
        "colab": {
          "base_uri": "https://localhost:8080/"
        },
        "id": "j40he9IKawag",
        "outputId": "c5f89374-ca7a-41c3-dd7c-d38f0b7bffb1"
      },
      "source": [
        "for layer in model.layers:\n",
        "    print(layer, layer.trainable )\n",
        "model.summary()"
      ],
      "execution_count": 14,
      "outputs": [
        {
          "output_type": "stream",
          "text": [
            "<keras.engine.input_layer.InputLayer object at 0x7f355e853790> False\n",
            "<keras.layers.convolutional.Conv2D object at 0x7f355bffbb10> False\n",
            "<keras.layers.convolutional.Conv2D object at 0x7f355c7aa290> False\n",
            "<keras.layers.pooling.MaxPooling2D object at 0x7f355c50a5d0> False\n",
            "<keras.layers.convolutional.Conv2D object at 0x7f355c510dd0> False\n",
            "<keras.layers.convolutional.Conv2D object at 0x7f355c517410> False\n",
            "<keras.layers.pooling.MaxPooling2D object at 0x7f355c510ad0> False\n",
            "<keras.layers.convolutional.Conv2D object at 0x7f355c5205d0> False\n",
            "<keras.layers.convolutional.Conv2D object at 0x7f355c526c90> False\n",
            "<keras.layers.convolutional.Conv2D object at 0x7f355c52ee50> False\n",
            "<keras.layers.pooling.MaxPooling2D object at 0x7f355c520b90> False\n",
            "<keras.layers.convolutional.Conv2D object at 0x7f355c532f50> False\n",
            "<keras.layers.convolutional.Conv2D object at 0x7f355c53b5d0> False\n",
            "<keras.layers.convolutional.Conv2D object at 0x7f355c532bd0> False\n",
            "<keras.layers.pooling.MaxPooling2D object at 0x7f355c4c80d0> False\n",
            "<keras.layers.convolutional.Conv2D object at 0x7f355c4cc7d0> False\n",
            "<keras.layers.convolutional.Conv2D object at 0x7f355c4d0e90> False\n",
            "<keras.layers.convolutional.Conv2D object at 0x7f355c4c6210> False\n",
            "<keras.layers.pooling.MaxPooling2D object at 0x7f355c4d9990> False\n",
            "<keras.engine.sequential.Sequential object at 0x7f355c4d6510> True\n",
            "Model: \"model\"\n",
            "_________________________________________________________________\n",
            "Layer (type)                 Output Shape              Param #   \n",
            "=================================================================\n",
            "input_1 (InputLayer)         [(None, 150, 150, 3)]     0         \n",
            "_________________________________________________________________\n",
            "block1_conv1 (Conv2D)        (None, 150, 150, 64)      1792      \n",
            "_________________________________________________________________\n",
            "block1_conv2 (Conv2D)        (None, 150, 150, 64)      36928     \n",
            "_________________________________________________________________\n",
            "block1_pool (MaxPooling2D)   (None, 75, 75, 64)        0         \n",
            "_________________________________________________________________\n",
            "block2_conv1 (Conv2D)        (None, 75, 75, 128)       73856     \n",
            "_________________________________________________________________\n",
            "block2_conv2 (Conv2D)        (None, 75, 75, 128)       147584    \n",
            "_________________________________________________________________\n",
            "block2_pool (MaxPooling2D)   (None, 37, 37, 128)       0         \n",
            "_________________________________________________________________\n",
            "block3_conv1 (Conv2D)        (None, 37, 37, 256)       295168    \n",
            "_________________________________________________________________\n",
            "block3_conv2 (Conv2D)        (None, 37, 37, 256)       590080    \n",
            "_________________________________________________________________\n",
            "block3_conv3 (Conv2D)        (None, 37, 37, 256)       590080    \n",
            "_________________________________________________________________\n",
            "block3_pool (MaxPooling2D)   (None, 18, 18, 256)       0         \n",
            "_________________________________________________________________\n",
            "block4_conv1 (Conv2D)        (None, 18, 18, 512)       1180160   \n",
            "_________________________________________________________________\n",
            "block4_conv2 (Conv2D)        (None, 18, 18, 512)       2359808   \n",
            "_________________________________________________________________\n",
            "block4_conv3 (Conv2D)        (None, 18, 18, 512)       2359808   \n",
            "_________________________________________________________________\n",
            "block4_pool (MaxPooling2D)   (None, 9, 9, 512)         0         \n",
            "_________________________________________________________________\n",
            "block5_conv1 (Conv2D)        (None, 9, 9, 512)         2359808   \n",
            "_________________________________________________________________\n",
            "block5_conv2 (Conv2D)        (None, 9, 9, 512)         2359808   \n",
            "_________________________________________________________________\n",
            "block5_conv3 (Conv2D)        (None, 9, 9, 512)         2359808   \n",
            "_________________________________________________________________\n",
            "block5_pool (MaxPooling2D)   (None, 4, 4, 512)         0         \n",
            "_________________________________________________________________\n",
            "sequential (Sequential)      (None, 2)                 2097922   \n",
            "=================================================================\n",
            "Total params: 16,812,610\n",
            "Trainable params: 2,097,922\n",
            "Non-trainable params: 14,714,688\n",
            "_________________________________________________________________\n"
          ],
          "name": "stdout"
        }
      ]
    },
    {
      "cell_type": "code",
      "metadata": {
        "id": "ZpNtVCkoa0OE"
      },
      "source": [
        "model.compile(loss='categorical_crossentropy',optimizer=optimizers.RMSprop(learning_rate=1e-5), metrics=['acc'])"
      ],
      "execution_count": 15,
      "outputs": []
    },
    {
      "cell_type": "code",
      "metadata": {
        "colab": {
          "base_uri": "https://localhost:8080/"
        },
        "id": "b6L_YtM2a53z",
        "outputId": "04a1a4e9-2f46-47a1-bd1c-5edfc8d24d69"
      },
      "source": [
        "history = model.fit(train_generator,epochs=50,validation_data=validation_generator,validation_steps=10,verbose=1)   "
      ],
      "execution_count": 16,
      "outputs": [
        {
          "output_type": "stream",
          "text": [
            "Epoch 1/50\n",
            "20/20 [==============================] - 347s 15s/step - loss: 0.8254 - acc: 0.5067 - val_loss: 0.5192 - val_acc: 0.8000\n",
            "Epoch 2/50\n",
            "20/20 [==============================] - 5s 246ms/step - loss: 0.5692 - acc: 0.7005 - val_loss: 0.4310 - val_acc: 0.8600\n",
            "Epoch 3/50\n",
            "20/20 [==============================] - 5s 245ms/step - loss: 0.4980 - acc: 0.7212 - val_loss: 0.3668 - val_acc: 0.9050\n",
            "Epoch 4/50\n",
            "20/20 [==============================] - 5s 247ms/step - loss: 0.3561 - acc: 0.8586 - val_loss: 0.3200 - val_acc: 0.9150\n",
            "Epoch 5/50\n",
            "20/20 [==============================] - 5s 245ms/step - loss: 0.3522 - acc: 0.8753 - val_loss: 0.2791 - val_acc: 0.9350\n",
            "Epoch 6/50\n",
            "20/20 [==============================] - 5s 246ms/step - loss: 0.3291 - acc: 0.8711 - val_loss: 0.2517 - val_acc: 0.9400\n",
            "Epoch 7/50\n",
            "20/20 [==============================] - 5s 247ms/step - loss: 0.2559 - acc: 0.9261 - val_loss: 0.2279 - val_acc: 0.9500\n",
            "Epoch 8/50\n",
            "20/20 [==============================] - 5s 248ms/step - loss: 0.2404 - acc: 0.9139 - val_loss: 0.2099 - val_acc: 0.9550\n",
            "Epoch 9/50\n",
            "20/20 [==============================] - 5s 247ms/step - loss: 0.2213 - acc: 0.9265 - val_loss: 0.1944 - val_acc: 0.9500\n",
            "Epoch 10/50\n",
            "20/20 [==============================] - 5s 243ms/step - loss: 0.2136 - acc: 0.9385 - val_loss: 0.1844 - val_acc: 0.9600\n",
            "Epoch 11/50\n",
            "20/20 [==============================] - 5s 241ms/step - loss: 0.2046 - acc: 0.9334 - val_loss: 0.1752 - val_acc: 0.9600\n",
            "Epoch 12/50\n",
            "20/20 [==============================] - 5s 243ms/step - loss: 0.1755 - acc: 0.9511 - val_loss: 0.1670 - val_acc: 0.9550\n",
            "Epoch 13/50\n",
            "20/20 [==============================] - 5s 245ms/step - loss: 0.1926 - acc: 0.9501 - val_loss: 0.1583 - val_acc: 0.9600\n",
            "Epoch 14/50\n",
            "20/20 [==============================] - 5s 249ms/step - loss: 0.1557 - acc: 0.9556 - val_loss: 0.1514 - val_acc: 0.9600\n",
            "Epoch 15/50\n",
            "20/20 [==============================] - 5s 247ms/step - loss: 0.1277 - acc: 0.9634 - val_loss: 0.1433 - val_acc: 0.9600\n",
            "Epoch 16/50\n",
            "20/20 [==============================] - 5s 250ms/step - loss: 0.1623 - acc: 0.9582 - val_loss: 0.1384 - val_acc: 0.9600\n",
            "Epoch 17/50\n",
            "20/20 [==============================] - 5s 246ms/step - loss: 0.1162 - acc: 0.9614 - val_loss: 0.1342 - val_acc: 0.9600\n",
            "Epoch 18/50\n",
            "20/20 [==============================] - 5s 244ms/step - loss: 0.1143 - acc: 0.9591 - val_loss: 0.1287 - val_acc: 0.9650\n",
            "Epoch 19/50\n",
            "20/20 [==============================] - 5s 247ms/step - loss: 0.1081 - acc: 0.9754 - val_loss: 0.1254 - val_acc: 0.9700\n",
            "Epoch 20/50\n",
            "20/20 [==============================] - 5s 246ms/step - loss: 0.0897 - acc: 0.9796 - val_loss: 0.1202 - val_acc: 0.9650\n",
            "Epoch 21/50\n",
            "20/20 [==============================] - 5s 245ms/step - loss: 0.0996 - acc: 0.9738 - val_loss: 0.1179 - val_acc: 0.9700\n",
            "Epoch 22/50\n",
            "20/20 [==============================] - 5s 246ms/step - loss: 0.0889 - acc: 0.9714 - val_loss: 0.1132 - val_acc: 0.9650\n",
            "Epoch 23/50\n",
            "20/20 [==============================] - 5s 244ms/step - loss: 0.0857 - acc: 0.9789 - val_loss: 0.1155 - val_acc: 0.9700\n",
            "Epoch 24/50\n",
            "20/20 [==============================] - 5s 243ms/step - loss: 0.1031 - acc: 0.9689 - val_loss: 0.1173 - val_acc: 0.9600\n",
            "Epoch 25/50\n",
            "20/20 [==============================] - 5s 245ms/step - loss: 0.0919 - acc: 0.9744 - val_loss: 0.1091 - val_acc: 0.9700\n",
            "Epoch 26/50\n",
            "20/20 [==============================] - 5s 247ms/step - loss: 0.0953 - acc: 0.9631 - val_loss: 0.1081 - val_acc: 0.9700\n",
            "Epoch 27/50\n",
            "20/20 [==============================] - 5s 246ms/step - loss: 0.0838 - acc: 0.9838 - val_loss: 0.1081 - val_acc: 0.9700\n",
            "Epoch 28/50\n",
            "20/20 [==============================] - 5s 246ms/step - loss: 0.0974 - acc: 0.9723 - val_loss: 0.0993 - val_acc: 0.9700\n",
            "Epoch 29/50\n",
            "20/20 [==============================] - 5s 247ms/step - loss: 0.0487 - acc: 0.9973 - val_loss: 0.0977 - val_acc: 0.9750\n",
            "Epoch 30/50\n",
            "20/20 [==============================] - 5s 247ms/step - loss: 0.0541 - acc: 0.9836 - val_loss: 0.1021 - val_acc: 0.9700\n",
            "Epoch 31/50\n",
            "20/20 [==============================] - 5s 246ms/step - loss: 0.0491 - acc: 0.9958 - val_loss: 0.0975 - val_acc: 0.9700\n",
            "Epoch 32/50\n",
            "20/20 [==============================] - 5s 245ms/step - loss: 0.0669 - acc: 0.9955 - val_loss: 0.0950 - val_acc: 0.9750\n",
            "Epoch 33/50\n",
            "20/20 [==============================] - 5s 245ms/step - loss: 0.0728 - acc: 0.9763 - val_loss: 0.0914 - val_acc: 0.9700\n",
            "Epoch 34/50\n",
            "20/20 [==============================] - 5s 247ms/step - loss: 0.0897 - acc: 0.9601 - val_loss: 0.0918 - val_acc: 0.9750\n",
            "Epoch 35/50\n",
            "20/20 [==============================] - 5s 247ms/step - loss: 0.0456 - acc: 0.9960 - val_loss: 0.0882 - val_acc: 0.9700\n",
            "Epoch 36/50\n",
            "20/20 [==============================] - 5s 247ms/step - loss: 0.0722 - acc: 0.9708 - val_loss: 0.0884 - val_acc: 0.9750\n",
            "Epoch 37/50\n",
            "20/20 [==============================] - 5s 246ms/step - loss: 0.0577 - acc: 0.9821 - val_loss: 0.0907 - val_acc: 0.9750\n",
            "Epoch 38/50\n",
            "20/20 [==============================] - 5s 243ms/step - loss: 0.0520 - acc: 0.9910 - val_loss: 0.0877 - val_acc: 0.9750\n",
            "Epoch 39/50\n",
            "20/20 [==============================] - 5s 246ms/step - loss: 0.0404 - acc: 0.9969 - val_loss: 0.0833 - val_acc: 0.9650\n",
            "Epoch 40/50\n",
            "20/20 [==============================] - 5s 247ms/step - loss: 0.0477 - acc: 0.9920 - val_loss: 0.0826 - val_acc: 0.9750\n",
            "Epoch 41/50\n",
            "20/20 [==============================] - 5s 248ms/step - loss: 0.0465 - acc: 0.9978 - val_loss: 0.0886 - val_acc: 0.9750\n",
            "Epoch 42/50\n",
            "20/20 [==============================] - 5s 248ms/step - loss: 0.0525 - acc: 0.9856 - val_loss: 0.0844 - val_acc: 0.9750\n",
            "Epoch 43/50\n",
            "20/20 [==============================] - 5s 245ms/step - loss: 0.0497 - acc: 0.9868 - val_loss: 0.0828 - val_acc: 0.9750\n",
            "Epoch 44/50\n",
            "20/20 [==============================] - 5s 247ms/step - loss: 0.0409 - acc: 0.9960 - val_loss: 0.0802 - val_acc: 0.9650\n",
            "Epoch 45/50\n",
            "20/20 [==============================] - 5s 246ms/step - loss: 0.0384 - acc: 0.9904 - val_loss: 0.0818 - val_acc: 0.9750\n",
            "Epoch 46/50\n",
            "20/20 [==============================] - 5s 249ms/step - loss: 0.0380 - acc: 0.9930 - val_loss: 0.0802 - val_acc: 0.9700\n",
            "Epoch 47/50\n",
            "20/20 [==============================] - 5s 246ms/step - loss: 0.0554 - acc: 0.9790 - val_loss: 0.0864 - val_acc: 0.9750\n",
            "Epoch 48/50\n",
            "20/20 [==============================] - 5s 248ms/step - loss: 0.0501 - acc: 0.9800 - val_loss: 0.0817 - val_acc: 0.9750\n",
            "Epoch 49/50\n",
            "20/20 [==============================] - 5s 247ms/step - loss: 0.0404 - acc: 0.9846 - val_loss: 0.0808 - val_acc: 0.9750\n",
            "Epoch 50/50\n",
            "20/20 [==============================] - 5s 246ms/step - loss: 0.0430 - acc: 0.9924 - val_loss: 0.0807 - val_acc: 0.9750\n"
          ],
          "name": "stdout"
        }
      ]
    },
    {
      "cell_type": "code",
      "metadata": {
        "id": "vtmgrp6oa_y1"
      },
      "source": [
        "import matplotlib.pyplot as plt\n",
        "%matplotlib inline"
      ],
      "execution_count": 17,
      "outputs": []
    },
    {
      "cell_type": "code",
      "metadata": {
        "id": "X00e72bSbQHQ",
        "colab": {
          "base_uri": "https://localhost:8080/",
          "height": 545
        },
        "outputId": "0a2957ee-2124-4f4d-be3b-5a3bf0d170cd"
      },
      "source": [
        "acc = history.history['acc']\n",
        "val_acc = history.history['val_acc']\n",
        "loss = history.history['loss']\n",
        "val_loss = history.history['val_loss']\n",
        "\n",
        "epochs = range(len(acc))\n",
        "\n",
        "plt.plot(epochs, acc, 'bo', label='Training acc')\n",
        "plt.plot(epochs, val_acc, 'b', label='Validation acc')\n",
        "plt.title('Training and validation accuracy')\n",
        "plt.legend()\n",
        "\n",
        "plt.figure()\n",
        "\n",
        "plt.plot(epochs, loss, 'bo', label='Training loss')\n",
        "plt.plot(epochs, val_loss, 'b', label='Validation loss')\n",
        "plt.title('Training and validation loss')\n",
        "plt.legend()\n",
        "\n",
        "plt.show()"
      ],
      "execution_count": 18,
      "outputs": [
        {
          "output_type": "display_data",
          "data": {
            "image/png": "[encoded data removed]",
            "text/plain": [
              "<Figure size 432x288 with 1 Axes>"
            ]
          },
          "metadata": {
            "tags": [],
            "needs_background": "light"
          }
        },
        {
          "output_type": "display_data",
          "data": {
            "image/png": "[encoded data removed]",
            "text/plain": [
              "<Figure size 432x288 with 1 Axes>"
            ]
          },
          "metadata": {
            "tags": [],
            "needs_background": "light"
          }
        }
      ]
    },
    {
      "cell_type": "code",
      "metadata": {
        "id": "UMTeO-yEbRZ1",
        "colab": {
          "base_uri": "https://localhost:8080/"
        },
        "outputId": "bf9bb6ab-fc03-4976-cf8c-e2fff337d9f4"
      },
      "source": [
        "test_generator = test_datagen.flow_from_directory(directory=test_dir,target_size=(img_rows, img_cols),color_mode='rgb',classes=classes,class_mode='categorical',batch_size=batch_size_for_data_generator)\n",
        "\n",
        "test_loss, test_acc = model.evaluate(test_generator,batch_size=50)\n",
        "print('test acc:', test_acc)"
      ],
      "execution_count": 19,
      "outputs": [
        {
          "output_type": "stream",
          "text": [
            "Found 200 images belonging to 2 classes.\n",
            "10/10 [==============================] - 91s 10s/step - loss: 0.0843 - acc: 0.9600\n",
            "test acc: 0.9599999785423279\n"
          ],
          "name": "stdout"
        }
      ]
    }
  ]
}